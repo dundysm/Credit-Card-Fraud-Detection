{
  "nbformat": 4,
  "nbformat_minor": 0,
  "metadata": {
    "colab": {
      "provenance": [],
      "toc_visible": true,
      "include_colab_link": true
    },
    "kernelspec": {
      "name": "python3",
      "display_name": "Python 3"
    },
    "language_info": {
      "name": "python"
    }
  },
  "cells": [
    {
      "cell_type": "markdown",
      "metadata": {
        "id": "view-in-github",
        "colab_type": "text"
      },
      "source": [
        "<a href=\"https://colab.research.google.com/github/dundysm/Credit-Card-Fraud-Detection/blob/master/GPT_personal.ipynb\" target=\"_parent\"><img src=\"https://colab.research.google.com/assets/colab-badge.svg\" alt=\"Open In Colab\"/></a>"
      ]
    },
    {
      "cell_type": "code",
      "source": [
        "import torch\n",
        "import torch.nn as nn\n",
        "from torch.nn import functional as F\n",
        "\n",
        "# Hyperparameters\n",
        "batch_size = 16 # Number of independent sequences to process in parallel\n",
        "block_size = 32 # Maximum context length for predictions\n",
        "max_iters = 5000 # Maximum number of iterations for training\n",
        "eval_interval = 100 # Interval for evaluating the model's performance\n",
        "learning_rate = 1e-3 # Learning rate for the optimizer\n",
        "device = 'cuda' if torch.cuda.is_available() else 'cpu' # Use GPU if available, otherwise use CPU\n",
        "eval_iters = 200 # Number of iterations for evaluating performance\n",
        "n_embd = 64 # Dimension of the embedding layer\n",
        "n_head = 4 # Number of heads in the multi-head attention mechanism\n",
        "n_layer = 4 # Number of layers in the Transformer model\n",
        "dropout = 0.0 # Dropout rate to prevent overfitting\n",
        "\n",
        "torch.manual_seed(55)\n"
      ],
      "metadata": {
        "colab": {
          "base_uri": "https://localhost:8080/"
        },
        "id": "yH7z0y1I9Acv",
        "outputId": "5f2ef540-d6e6-4db3-c400-c461ba9c4d2c"
      },
      "execution_count": null,
      "outputs": [
        {
          "output_type": "execute_result",
          "data": {
            "text/plain": [
              "<torch._C.Generator at 0x7f4b5f4b20b0>"
            ]
          },
          "metadata": {},
          "execution_count": 35
        }
      ]
    },
    {
      "cell_type": "code",
      "source": [
        "!wget https://raw.githubusercontent.com/karpathy/char-rnn/master/data/tinyshakespeare/input.txt\n"
      ],
      "metadata": {
        "id": "7i3wjuMF9Mp8"
      },
      "execution_count": null,
      "outputs": []
    },
    {
      "cell_type": "code",
      "source": [
        "# Open input file and read the text\n",
        "with open('input.txt', 'r', encoding='utf-8') as f:\n",
        "    text = f.read()\n",
        "\n",
        "# Get all unique characters in the text\n",
        "chars = sorted(list(set(text)))\n",
        "vocab_size = len(chars)\n",
        "\n",
        "# Create mapping from characters to integers\n",
        "stoi = { ch:i for i,ch in enumerate(chars) }\n",
        "itos = { i:ch for i,ch in enumerate(chars) }\n",
        "\n",
        "# Encoder function: takes a string and outputs a list of integers\n",
        "encode = lambda s: [stoi[c] for c in s] \n",
        "\n",
        "# Decoder function: takes a list of integers and outputs a string\n",
        "decode = lambda l: ''.join([itos[i] for i in l])\n"
      ],
      "metadata": {
        "id": "9waUZmzf9Ebl"
      },
      "execution_count": null,
      "outputs": []
    },
    {
      "cell_type": "code",
      "source": [
        "# Train and test data splits\n",
        "# Encode the text into integers and convert it to a tensor\n",
        "data = torch.tensor(encode(text), dtype=torch.long)\n",
        "\n",
        "# Use 90% of the data for training and the remaining for validation\n",
        "n = int(0.9*len(data)) \n",
        "train_data = data[:n]\n",
        "val_data = data[n:]\n",
        "\n",
        "# Function for generating small batches of data\n",
        "def get_batch(split):\n",
        "    # Choose train or validation data based on input split\n",
        "    data = train_data if split == 'train' else val_data\n",
        "    # Select random starting indices for each batch of data\n",
        "    ix = torch.randint(len(data) - block_size, (batch_size,))\n",
        "    # Extract the corresponding blocks of data and target values\n",
        "    x = torch.stack([data[i:i+block_size] for i in ix])\n",
        "    y = torch.stack([data[i+1:i+block_size+1] for i in ix])\n",
        "    # Move the data to GPU if available\n",
        "    x, y = x.to(device), y.to(device)\n",
        "    return x, y\n",
        "\n",
        "\n",
        "\n"
      ],
      "metadata": {
        "id": "Whn7ZO6G9UWB"
      },
      "execution_count": null,
      "outputs": []
    },
    {
      "cell_type": "code",
      "source": [
        "@torch.no_grad()\n",
        "def estimate_loss():\n",
        "    \"\"\"Evaluate the model on the validation set and return the mean loss.\"\"\"\n",
        "    out = {}\n",
        "    model.eval()  # Set the model to evaluation mode\n",
        "    for split in ['train', 'val']:\n",
        "        losses = torch.zeros(eval_iters)\n",
        "        for k in range(eval_iters):\n",
        "            X, Y = get_batch(split)\n",
        "            logits, loss = model(X, Y)\n",
        "            losses[k] = loss.item()\n",
        "        out[split] = losses.mean()\n",
        "    model.train()  # Set the model back to training mode\n",
        "    return out\n",
        "\n",
        "class Head(nn.Module):\n",
        "    \"\"\"One head of the self-attention mechanism.\"\"\"\n",
        "\n",
        "    def __init__(self, head_size):\n",
        "        super().__init__()\n",
        "        self.key = nn.Linear(n_embd, head_size, bias=False)  # Linear layer for the keys\n",
        "        self.query = nn.Linear(n_embd, head_size, bias=False)  # Linear layer for the queries\n",
        "        self.value = nn.Linear(n_embd, head_size, bias=False)  # Linear layer for the values\n",
        "        self.register_buffer('tril', torch.tril(torch.ones(block_size, block_size)))  # Lower triangle matrix for masking attention scores\n",
        "\n",
        "        self.dropout = nn.Dropout(dropout)  # Dropout layer for regularization\n",
        "\n",
        "    def forward(self, x):\n",
        "        B,T,C = x.shape\n",
        "        k = self.key(x)   # (B, T, C)\n",
        "        q = self.query(x) # (B, T, C)\n",
        "        # Compute attention scores\n",
        "        wei = q @ k.transpose(-2,-1) * C**-0.5 # (B, T, C) @ (B, C, T) -> (B, T, T)\n",
        "        wei = wei.masked_fill(self.tril[:T, :T] == 0, float('-inf')) # (B, T, T)\n",
        "        wei = F.softmax(wei, dim=-1) # (B, T, T)\n",
        "        wei = self.dropout(wei)\n",
        "        # Perform the weighted aggregation of the values\n",
        "        v = self.value(x) # (B, T, C)\n",
        "        out = wei @ v # (B, T, T) @ (B, T, C) -> (B, T, C)\n",
        "        return out\n"
      ],
      "metadata": {
        "id": "7XEhjuxx9has"
      },
      "execution_count": null,
      "outputs": []
    },
    {
      "cell_type": "code",
      "source": [
        "class MultiHeadAttention(nn.Module):\n",
        "    \"\"\" multiple heads of self-attention in parallel \"\"\"\n",
        "\n",
        "    def __init__(self, num_heads, head_size):\n",
        "        super().__init__()\n",
        "        # create a list of `num_heads` attention heads, each with its own parameters\n",
        "        self.heads = nn.ModuleList([Head(head_size) for _ in range(num_heads)])\n",
        "        # linear layer to project the concatenated output of all heads to `n_embd` dimensions\n",
        "        self.proj = nn.Linear(n_embd, n_embd)\n",
        "        self.dropout = nn.Dropout(dropout)\n",
        "\n",
        "    def forward(self, x):\n",
        "        # concatenate the output of all heads along the last dimension\n",
        "        out = torch.cat([h(x) for h in self.heads], dim=-1)\n",
        "        # project the concatenated output using the linear layer\n",
        "        out = self.dropout(self.proj(out))\n",
        "        return out\n",
        "\n",
        "class FeedFoward(nn.Module):\n",
        "    \"\"\" a simple linear layer followed by a non-linearity \"\"\"\n",
        "\n",
        "    def __init__(self, n_embd):\n",
        "        super().__init__()\n",
        "        # a simple feedforward neural network with two linear layers\n",
        "        self.net = nn.Sequential(\n",
        "            nn.Linear(n_embd, 4 * n_embd), # first linear layer\n",
        "            nn.ReLU(), # ReLU activation function\n",
        "            nn.Linear(4 * n_embd, n_embd), # second linear layer\n",
        "            nn.Dropout(dropout), # dropout layer\n",
        "        )\n",
        "\n",
        "    def forward(self, x):\n",
        "        return self.net(x)\n",
        "\n",
        "class Block(nn.Module):\n",
        "    \"\"\" Transformer block: communication followed by computation \"\"\"\n",
        "\n",
        "    def __init__(self, n_embd, n_head):\n",
        "        # n_embd: embedding dimension, n_head: the number of heads we'd like\n",
        "        super().__init__()\n",
        "        # the size of each attention head\n",
        "        head_size = n_embd // n_head\n",
        "        self.sa = MultiHeadAttention(n_head, head_size) # multi-head self-attention layer\n",
        "        self.ffwd = FeedFoward(n_embd) # feedforward layer\n",
        "        self.ln1 = nn.LayerNorm(n_embd) # layer normalization after self-attention\n",
        "        self.ln2 = nn.LayerNorm(n_embd) # layer normalization after feedforward layer\n",
        "\n",
        "    def forward(self, x):\n",
        "        # add the residual connection before and after layer normalization\n",
        "        x = x + self.sa(self.ln1(x))\n",
        "        x = x + self.ffwd(self.ln2(x))\n",
        "        return x\n"
      ],
      "metadata": {
        "id": "lf_E5Jfh9h10"
      },
      "execution_count": null,
      "outputs": []
    },
    {
      "cell_type": "code",
      "source": [
        "# super simple bigram model\n",
        "class BigramLanguageModel(nn.Module):\n",
        "\n",
        "    def __init__(self):\n",
        "        super().__init__()\n",
        "        # each token directly reads off the logits for the next token from a lookup table\n",
        "        self.token_embedding_table = nn.Embedding(vocab_size, n_embd)\n",
        "        self.position_embedding_table = nn.Embedding(block_size, n_embd)\n",
        "        self.blocks = nn.Sequential(*[Block(n_embd, n_head=n_head) for _ in range(n_layer)])\n",
        "        self.ln_f = nn.LayerNorm(n_embd) # final layer norm\n",
        "        self.lm_head = nn.Linear(n_embd, vocab_size)\n",
        "\n",
        "    def forward(self, idx, targets=None):\n",
        "        B, T = idx.shape\n",
        "\n",
        "        # idx and targets are both (B,T) tensor of integers\n",
        "        tok_emb = self.token_embedding_table(idx) # (B,T,C)\n",
        "        pos_emb = self.position_embedding_table(torch.arange(T, device=device)) # (T,C)\n",
        "        x = tok_emb + pos_emb # (B,T,C)\n",
        "        x = self.blocks(x) # (B,T,C)\n",
        "        x = self.ln_f(x) # (B,T,C)\n",
        "        logits = self.lm_head(x) # (B,T,vocab_size)\n",
        "\n",
        "        if targets is None:\n",
        "            loss = None\n",
        "        else:\n",
        "            B, T, C = logits.shape\n",
        "            logits = logits.view(B*T, C)\n",
        "            targets = targets.view(B*T)\n",
        "            loss = F.cross_entropy(logits, targets)\n",
        "\n",
        "        return logits, loss\n",
        "\n",
        "    def generate(self, idx, max_new_tokens):\n",
        "        # idx is (B, T) array of indices in the current context\n",
        "        for _ in range(max_new_tokens):\n",
        "            # crop idx to the last block_size tokens\n",
        "            idx_cond = idx[:, -block_size:]\n",
        "            # get the predictions\n",
        "            logits, loss = self(idx_cond)\n",
        "            # focus only on the last time step\n",
        "            logits = logits[:, -1, :] # becomes (B, C)\n",
        "            # apply softmax to get probabilities\n",
        "            probs = F.softmax(logits, dim=-1) # (B, C)\n",
        "            # sample from the distribution\n",
        "            idx_next = torch.multinomial(probs, num_samples=1) # (B, 1)\n",
        "            # append sampled index to the running sequence\n",
        "            idx = torch.cat((idx, idx_next), dim=1) # (B, T+1)\n",
        "        return idx\n",
        "\n"
      ],
      "metadata": {
        "id": "BzN5BNJP9zPv"
      },
      "execution_count": null,
      "outputs": []
    },
    {
      "cell_type": "code",
      "source": [],
      "metadata": {
        "id": "Rwqw4QDc9zCM"
      },
      "execution_count": null,
      "outputs": []
    },
    {
      "cell_type": "code",
      "source": [],
      "metadata": {
        "id": "-UG9x5fN-lek"
      },
      "execution_count": null,
      "outputs": []
    },
    {
      "cell_type": "code",
      "source": [
        "# Create a Bigram Language Model\n",
        "model = BigramLanguageModel()\n",
        "\n",
        "# Move the model to the device specified in the `device` variable\n",
        "m = model.to(device)\n",
        "\n",
        "# Print the number of parameters in the model\n",
        "print(f\"{sum(p.numel() for p in m.parameters())/1e6:.2f} M parameters\")\n",
        "\n",
        "# Create a PyTorch optimizer using the AdamW optimizer with the specified learning rate\n",
        "optimizer = torch.optim.AdamW(model.parameters(), lr=learning_rate)\n",
        "\n",
        "# Train the model for `max_iters` iterations\n",
        "for iter in range(max_iters):\n",
        "    \n",
        "    # Every `eval_interval` iterations, evaluate the loss on the train and val sets\n",
        "    if iter % eval_interval == 0 or iter == max_iters - 1:\n",
        "        losses = estimate_loss()\n",
        "        print(f\"Step {iter}: Train Loss {losses['train']:.4f}, Val Loss {losses['val']:.4f}\")\n",
        "    \n",
        "    # Sample a batch of data for training\n",
        "    xb, yb = get_batch('train')\n",
        "    \n",
        "    # Evaluate the loss on the current batch of data\n",
        "    logits, loss = model(xb, yb)\n",
        "    optimizer.zero_grad(set_to_none=True)\n",
        "    loss.backward()\n",
        "    optimizer.step()\n",
        "\n",
        "# Generate text from the model\n",
        "# Initialize a context tensor with shape (1, 1) and dtype long on the device specified in `device`\n",
        "context = torch.zeros((1, 1), dtype=torch.long, device=device)\n"
      ],
      "metadata": {
        "colab": {
          "base_uri": "https://localhost:8080/"
        },
        "id": "Cbs4epcN14EW",
        "outputId": "74ef77fb-1d48-460e-aad4-4e7346fdbaac"
      },
      "execution_count": null,
      "outputs": [
        {
          "output_type": "stream",
          "name": "stdout",
          "text": [
            "0.21 M parameters\n",
            "Step 0: Train Loss 4.3559, Val Loss 4.3614\n",
            "Step 100: Train Loss 2.6576, Val Loss 2.6614\n",
            "Step 200: Train Loss 2.5089, Val Loss 2.5197\n",
            "Step 300: Train Loss 2.4147, Val Loss 2.4264\n",
            "Step 400: Train Loss 2.3600, Val Loss 2.3634\n",
            "Step 500: Train Loss 2.3077, Val Loss 2.3188\n",
            "Step 600: Train Loss 2.2741, Val Loss 2.2917\n",
            "Step 700: Train Loss 2.2312, Val Loss 2.2460\n",
            "Step 800: Train Loss 2.1822, Val Loss 2.2028\n",
            "Step 900: Train Loss 2.1341, Val Loss 2.1766\n",
            "Step 1000: Train Loss 2.0993, Val Loss 2.1427\n",
            "Step 1100: Train Loss 2.0830, Val Loss 2.1247\n",
            "Step 1200: Train Loss 2.0404, Val Loss 2.0914\n",
            "Step 1300: Train Loss 2.0168, Val Loss 2.0703\n",
            "Step 1400: Train Loss 2.0116, Val Loss 2.0603\n",
            "Step 1500: Train Loss 1.9706, Val Loss 2.0532\n",
            "Step 1600: Train Loss 1.9520, Val Loss 2.0279\n",
            "Step 1700: Train Loss 1.9311, Val Loss 2.0157\n",
            "Step 1800: Train Loss 1.9092, Val Loss 2.0137\n",
            "Step 1900: Train Loss 1.8859, Val Loss 1.9896\n",
            "Step 2000: Train Loss 1.8846, Val Loss 1.9859\n",
            "Step 2100: Train Loss 1.8746, Val Loss 1.9694\n",
            "Step 2200: Train Loss 1.8469, Val Loss 1.9532\n",
            "Step 2300: Train Loss 1.8495, Val Loss 1.9484\n",
            "Step 2400: Train Loss 1.8265, Val Loss 1.9402\n",
            "Step 2500: Train Loss 1.8170, Val Loss 1.9396\n",
            "Step 2600: Train Loss 1.8020, Val Loss 1.9235\n",
            "Step 2700: Train Loss 1.7964, Val Loss 1.9336\n",
            "Step 2800: Train Loss 1.7837, Val Loss 1.9075\n",
            "Step 2900: Train Loss 1.7776, Val Loss 1.9133\n",
            "Step 3000: Train Loss 1.7550, Val Loss 1.8866\n",
            "Step 3100: Train Loss 1.7617, Val Loss 1.8943\n",
            "Step 3200: Train Loss 1.7430, Val Loss 1.8886\n",
            "Step 3300: Train Loss 1.7318, Val Loss 1.8782\n",
            "Step 3400: Train Loss 1.7394, Val Loss 1.8798\n",
            "Step 3500: Train Loss 1.7265, Val Loss 1.8824\n",
            "Step 3600: Train Loss 1.7185, Val Loss 1.8578\n",
            "Step 3700: Train Loss 1.7111, Val Loss 1.8643\n",
            "Step 3800: Train Loss 1.7071, Val Loss 1.8564\n",
            "Step 3900: Train Loss 1.7092, Val Loss 1.8567\n",
            "Step 4000: Train Loss 1.6901, Val Loss 1.8521\n",
            "Step 4100: Train Loss 1.6882, Val Loss 1.8339\n",
            "Step 4200: Train Loss 1.6928, Val Loss 1.8383\n",
            "Step 4300: Train Loss 1.6761, Val Loss 1.8325\n",
            "Step 4400: Train Loss 1.6768, Val Loss 1.8350\n",
            "Step 4500: Train Loss 1.6706, Val Loss 1.8276\n",
            "Step 4600: Train Loss 1.6774, Val Loss 1.8183\n",
            "Step 4700: Train Loss 1.6740, Val Loss 1.8349\n",
            "Step 4800: Train Loss 1.6595, Val Loss 1.8068\n",
            "Step 4900: Train Loss 1.6540, Val Loss 1.8212\n",
            "Step 4999: Train Loss 1.6493, Val Loss 1.8180\n"
          ]
        }
      ]
    },
    {
      "cell_type": "markdown",
      "source": [
        "# OUTPUT"
      ],
      "metadata": {
        "id": "fQrVEW4-EdrS"
      }
    },
    {
      "cell_type": "code",
      "source": [
        "print(decode(m.generate(context, max_new_tokens=2000)[0].tolist()))\n"
      ],
      "metadata": {
        "colab": {
          "base_uri": "https://localhost:8080/"
        },
        "id": "x3HwQycK5XI3",
        "outputId": "0478fbc1-e64d-4766-95ed-d32aac8dd7e4"
      },
      "execution_count": null,
      "outputs": [
        {
          "output_type": "stream",
          "name": "stdout",
          "text": [
            "\n",
            "Thou doours head he will veak prosnakede, and other are and\n",
            "Whom bost a miter with you, affairsts woulds she have him leave: scome cought oor cure ontranus you lookes of\n",
            "To his doumn, fee that judgt curet of the paird with obter all vanton, much and all his pausion;\n",
            "Wits pence thee on: your lords, it it words.\n",
            "\n",
            "LUCIONE:\n",
            "Her 'Nevila.\n",
            "To Marcullanuddes matting, morts roud cort rick, we if\n",
            "the prace! but now, well not, the could, Grafe it mastap.\n",
            "So you, were and the duch!\n",
            "'Clifford, at a strenchight I weld me the ears:\n",
            "What't, thereus not. But turneto on Jo;\n",
            "My speep thou happtimest extrant!\n",
            "\n",
            "CORINIO:\n",
            "Then the failt in your graclermen,\n",
            "As he duke him onhraince to be such\n",
            "since waw the duke womb dreamest give your sign some part therem't,\n",
            "Romeo all the eirentle: but put parded city that druth;\n",
            "Make more magadst me, sire? but yet,\n",
            "AndOr take fortuned I have shope again'd me, untaked and thou must Can such\n",
            "The truman Gest non, as cure is edvery. YeWtry lives\n",
            "A vensis dissope, when we powoudy.\n",
            "\n",
            "QUEEN YORLI:\n",
            "Your is cred of in then, what prevely\n",
            "SlouQUS: heart you priday'd dend hear.\n",
            "\n",
            "ANGRENOM:\n",
            "A dramefulland of me, better all and now bolame\n",
            "Our that me,\n",
            "Clorn'd where thee atereign suspicn!\n",
            "\n",
            "LADY MARENRIO:\n",
            "it, in it with upon it our reparms?\n",
            "Breaked welk to a but below liques\n",
            "In, be at it well be? To me O eversomby\n",
            "Welcome of grace hits\n",
            "nought of stize you, but with he vatle:\n",
            "As be sons and fallowed a fought for your givalsly,\n",
            "yound marry that head tyblunamed frrom,\n",
            "And in madist your fend to fawht as is nabur calberly were entler of heavel.\n",
            "\n",
            "KORSNMENNE:\n",
            "'Tight, sking, har made!\n",
            "\n",
            "Nurse:\n",
            "Wavary, beself, where would monting upon,\n",
            "Worthy gring eed.\n",
            "\n",
            "SORUMERSTER:\n",
            "My srids, get's now geld law ow:\n",
            "Fraper it womfoll'd there, pride is good I that Edward son.\n",
            "\n",
            "JORSELBERWARD.\n",
            "\n",
            "VOLINY:\n",
            "Yow Plazy Bucked:, he kind, It eary with,\n",
            "'Typpachion in thich my duke quauteou ames mover of daughter\n",
            "Neld to fought disman, dreaved man; king did the come in their himself down and when heard: see,\n",
            "T\n"
          ]
        }
      ]
    },
    {
      "cell_type": "code",
      "source": [
        "a"
      ],
      "metadata": {
        "id": "VW6ysx-b5Xdk"
      },
      "execution_count": null,
      "outputs": []
    }
  ]
}